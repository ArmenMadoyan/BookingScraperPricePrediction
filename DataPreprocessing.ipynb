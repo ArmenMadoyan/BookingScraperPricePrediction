{
 "cells": [
  {
   "cell_type": "code",
   "execution_count": 172,
   "id": "2f2e2a54-9975-4cf8-a088-640b3f4bf848",
   "metadata": {},
   "outputs": [],
   "source": [
    "import pandas as pd\n",
    "import numpy as np"
   ]
  },
  {
   "cell_type": "code",
   "execution_count": 173,
   "id": "0631f540-c021-432d-98b8-678331932958",
   "metadata": {},
   "outputs": [],
   "source": [
    "df = pd.read_csv('BookingScraperAM.csv')"
   ]
  },
  {
   "cell_type": "markdown",
   "id": "617b261d-4eb5-4518-89c1-194b9df90af8",
   "metadata": {},
   "source": [
    "### Convert Price AMD to numeric."
   ]
  },
  {
   "cell_type": "code",
   "execution_count": 174,
   "id": "bf8e292d-d289-4441-a07f-c27ee9ebfbf1",
   "metadata": {},
   "outputs": [],
   "source": [
    "# Convert Price AMD to numeric.\n",
    "X = df.drop(columns = [\"Price AMD\", \"Languages spoken\",'Name Of Hotel','Outdoor swimming pool', 'Spa', 'Activities'])\n",
    "y = df[\"Price AMD\"]\n",
    "#X.columns[X.isnull().any()]"
   ]
  },
  {
   "cell_type": "markdown",
   "id": "b2f3e044-b9a3-4a9b-9346-940878939903",
   "metadata": {},
   "source": [
    "### Handle missing values."
   ]
  },
  {
   "cell_type": "code",
   "execution_count": 175,
   "id": "35fb7fdf-2625-4600-977b-59cd304d485a",
   "metadata": {},
   "outputs": [],
   "source": [
    "X.fillna({\"Rating\": X[\"Rating\"].mean()}, inplace=True)\n",
    "X.fillna({\"Activities\": \"Doesn't have\"}, inplace=True)\n",
    "X.fillna({\"Parking\": \"Doesn't have\"}, inplace=True)\n",
    "X.fillna({\"Wellness\": \"Doesn't have\"}, inplace=True)"
   ]
  },
  {
   "cell_type": "code",
   "execution_count": 176,
   "id": "125c42fc-b37d-4efa-bfcf-d2f967ac23a8",
   "metadata": {},
   "outputs": [],
   "source": [
    "# X.Location - one hot encoder\n",
    "# X.Breakfast - label encoder\n",
    "# X.Room - LLM encoder\n",
    "# X.Outdoors - LLM encoder\n",
    "# X.Ski - LLM\n",
    "# X['Food & Drink'] - LLM\n",
    "# X['Internet'] - one hot encoder, mapping\n",
    "# X['Parking'] - LLm\n",
    "# X['Wellness'] - LLM\n"
   ]
  },
  {
   "cell_type": "code",
   "execution_count": 177,
   "id": "2dc579d2-b567-4c9a-b78f-21df79840947",
   "metadata": {},
   "outputs": [],
   "source": [
    "# from sklearn.compose import ColumnTransformer\n",
    "# from sklearn.preprocessing import OneHotEncoder\n",
    "# ct = ColumnTransformer(transformers=[('encoder', OneHotEncoder(), [0])], remainder='passthrough')\n",
    "# # X = np.array(ct.fit_transform(X))"
   ]
  },
  {
   "cell_type": "markdown",
   "id": "ead45e37-8bc0-4fcf-9bc3-2ccc91da32fb",
   "metadata": {},
   "source": [
    "### Encoding Location"
   ]
  },
  {
   "cell_type": "code",
   "execution_count": 178,
   "id": "52950b6f-ef11-4f49-8614-7aa3be7f5a8d",
   "metadata": {},
   "outputs": [],
   "source": [
    "X = pd.get_dummies(X, columns=['Location'])\n",
    "X = X.apply(lambda col: col.astype(int) if col.dtype == 'bool' else col)"
   ]
  },
  {
   "cell_type": "markdown",
   "id": "659c99bd-55d1-4f39-ae72-7a7526aebe20",
   "metadata": {},
   "source": [
    "### Encoding Breakfast"
   ]
  },
  {
   "cell_type": "code",
   "execution_count": 179,
   "id": "fa531735-ef14-489c-9635-cf6352cde03c",
   "metadata": {},
   "outputs": [],
   "source": [
    "X['Breakfast'] = X['Breakfast'].apply(lambda x: 0 if x == 'Not Included' else 1)"
   ]
  },
  {
   "cell_type": "markdown",
   "id": "5710104f-da4d-4aec-b650-6163d4af7256",
   "metadata": {},
   "source": [
    "### Encoding Room"
   ]
  },
  {
   "cell_type": "code",
   "execution_count": 180,
   "id": "d70c36db-eedf-41a3-825f-bcdc576463fb",
   "metadata": {},
   "outputs": [],
   "source": [
    "# removing Room word\n",
    "X.Room = X.Room.str.replace('Room', '', regex=False)"
   ]
  },
  {
   "cell_type": "code",
   "execution_count": 181,
   "id": "aa5b3e6e-0485-4cdc-b76b-236bd59d37aa",
   "metadata": {},
   "outputs": [],
   "source": [
    "def splitter(arr, item = ' ') -> pd.DataFrame:\n",
    "    split_data = [x.split(item) for x in arr]\n",
    "    split_data = [[item.strip() for item in sublist] for sublist in split_data]\n",
    "    from sklearn.preprocessing import MultiLabelBinarizer\n",
    "    \n",
    "    mlb = MultiLabelBinarizer()\n",
    "    \n",
    "    # Step 4: Fit and transform the data to get the one-hot encoded matrix\n",
    "    encoded_data = mlb.fit_transform(split_data)\n",
    "    encoded_data = pd.DataFrame(encoded_data, columns=mlb.classes_)\n",
    "    return encoded_data"
   ]
  },
  {
   "cell_type": "code",
   "execution_count": 182,
   "id": "44f0160b-96f1-4d4c-8ca2-bafdf143bfab",
   "metadata": {},
   "outputs": [],
   "source": [
    "encoded_data = splitter(X.Room ,' ')\n",
    "encoded_data = encoded_data.drop(columns=['', '(2', '+', '-', '1','and', 'in', 'or', 'room,', 'with', 'without'])"
   ]
  },
  {
   "cell_type": "code",
   "execution_count": 183,
   "id": "bb990b4d-8b67-4bd4-989e-6216554343b8",
   "metadata": {},
   "outputs": [],
   "source": [
    "X = X.drop(columns = [\"Room\"])\n",
    "# add encoded data to X\n",
    "X = pd.concat([X, encoded_data], axis = 1)\n",
    "#fill NaN values\n",
    "X.columns[X.isnull().any()]\n",
    "X.fillna(0, inplace=True)"
   ]
  },
  {
   "cell_type": "markdown",
   "id": "9ff116a5-afba-48d6-b77b-875c733d76b1",
   "metadata": {},
   "source": [
    "### Encoding Outdoors"
   ]
  },
  {
   "cell_type": "code",
   "execution_count": 184,
   "id": "8c4f0242-a5cd-4c3b-a24d-93405e273020",
   "metadata": {},
   "outputs": [],
   "source": [
    "encoded_data1 = splitter(X.Outdoors ,' | ')\n",
    "encoded_data1 = splitter(encoded_data1, ' ')\n",
    "encoded_data1 = encoded_data1.drop(columns=[\"Doesn't\", 'Outdoor'])"
   ]
  },
  {
   "cell_type": "code",
   "execution_count": 185,
   "id": "c7dc106a-1913-491f-9caa-1c365eb783e6",
   "metadata": {},
   "outputs": [],
   "source": [
    "# add encoded data to X, fill NaN values\n",
    "X = X.drop(columns = [\"Outdoors\"])\n",
    "X = pd.concat([X, encoded_data1], axis = 1)\n",
    "X.columns[X.isnull().any()]\n",
    "X.fillna(0, inplace=True)"
   ]
  },
  {
   "cell_type": "markdown",
   "id": "488babbc-caea-490b-bb93-16492fe9782b",
   "metadata": {},
   "source": [
    "### Encoding Ski"
   ]
  },
  {
   "cell_type": "code",
   "execution_count": 186,
   "id": "092821fa-5d8c-45c3-8950-fc7425e694f2",
   "metadata": {},
   "outputs": [
    {
     "data": {
      "text/plain": [
       "array(['Ski-to-door access | Ski equipment hire on site | Ski storage',\n",
       "       \"Doesn't have\",\n",
       "       'Ski pass vendor | Ski equipment hire on site | Ski storage (Additional charge)',\n",
       "       'Ski storage', 'Ski school (Additional charge)',\n",
       "       'Ski pass vendor | Ski equipment hire on site',\n",
       "       'Ski equipment hire on site | Ski storage',\n",
       "       'Ski-to-door access | Ski equipment hire on site | Ski school (Additional charge) | Ski storage',\n",
       "       'Ski-to-door access | Ski storage',\n",
       "       'Ski pass vendor | Ski equipment hire on site | Ski school (Additional charge) | Ski storage',\n",
       "       'Ski equipment hire on site | Ski school | Ski storage',\n",
       "       'Ski equipment hire on site | Ski storage (Additional charge)',\n",
       "       'Ski-to-door access | Ski pass vendor | Ski equipment hire on site | Ski school (Additional charge) | Ski storage'],\n",
       "      dtype=object)"
      ]
     },
     "execution_count": 186,
     "metadata": {},
     "output_type": "execute_result"
    }
   ],
   "source": [
    "X.Ski.unique()"
   ]
  },
  {
   "cell_type": "code",
   "execution_count": 187,
   "id": "2adc6485-39b8-4a50-98f9-729ffb3737e6",
   "metadata": {},
   "outputs": [],
   "source": [
    "encoded_data2 = splitter(X.Ski ,' | ')\n",
    "encoded_data2 = splitter(encoded_data2, ' ')\n",
    "encoded_data2 = encoded_data2.drop(columns=[\"Doesn't\", '(Additional', 'have', 'vendor'])"
   ]
  },
  {
   "cell_type": "code",
   "execution_count": 188,
   "id": "601ade1e-9a3d-4d2a-93d0-ea6e17606414",
   "metadata": {},
   "outputs": [],
   "source": [
    "# add encoded data to X, fill NaN values\n",
    "X = X.drop(columns = [\"Ski\"])\n",
    "X = pd.concat([X, encoded_data2], axis = 1)\n",
    "X.columns[X.isnull().any()]\n",
    "X.fillna(0, inplace=True)"
   ]
  },
  {
   "cell_type": "markdown",
   "id": "d9f2bd9d-14e1-422f-82d5-7960eeaea2d0",
   "metadata": {},
   "source": [
    "### Encoding Food & Drink"
   ]
  },
  {
   "cell_type": "code",
   "execution_count": 189,
   "id": "2eff27e7-0d59-42ea-b58f-c51d891f3145",
   "metadata": {},
   "outputs": [],
   "source": [
    "encoded_data3 = splitter(X['Food & Drink'] ,' | ')\n",
    "encoded_data3 = splitter(encoded_data3, ' ')\n",
    "encoded_data3 = splitter(encoded_data3, '(')\n",
    "encoded_data3 = splitter(encoded_data3, ')')\n",
    "encoded_data3 = encoded_data3.drop(columns=['', \"Doesn't\", 'have', 'in', 'on', 'the'])"
   ]
  },
  {
   "cell_type": "code",
   "execution_count": 190,
   "id": "5ec2f003-6ff6-4d2b-aab5-129527198cd0",
   "metadata": {},
   "outputs": [
    {
     "data": {
      "text/plain": [
       "Index(['Additional', 'Bar', 'Breakfast', 'Coffee', 'Fruits', 'Grocery', 'Kid',\n",
       "       'Kid-friendly', 'Minibar', 'Packed', 'Restaurant', 'Room', 'Snack',\n",
       "       'Special', 'Tea/Coffee', 'Vending', 'Wine/champagne', 'bar', 'buffet',\n",
       "       'charge', 'deliveries', 'diet', 'drinks', 'house', 'lunches', 'machine',\n",
       "       'maker', 'meals', 'menus', 'request', 'room', 'service', 'site',\n",
       "       'snacks'],\n",
       "      dtype='object')"
      ]
     },
     "execution_count": 190,
     "metadata": {},
     "output_type": "execute_result"
    }
   ],
   "source": [
    "encoded_data3.columns.unique()"
   ]
  },
  {
   "cell_type": "code",
   "execution_count": 191,
   "id": "c8262b41-2850-496f-bff8-f95704886108",
   "metadata": {},
   "outputs": [],
   "source": [
    "# add encoded data to X, fill NaN values\n",
    "X = X.drop(columns = ['Food & Drink'])\n",
    "X = pd.concat([X, encoded_data3], axis = 1)\n",
    "X.columns[X.isnull().any()]\n",
    "X.fillna(0, inplace=True)"
   ]
  },
  {
   "cell_type": "markdown",
   "id": "8100cc98-a99a-4fd9-95fb-32f9c41a5411",
   "metadata": {},
   "source": [
    "### Encoding Internet"
   ]
  },
  {
   "cell_type": "code",
   "execution_count": 192,
   "id": "9b3168e3-ec31-4657-a24d-07cdcfa2a8b6",
   "metadata": {},
   "outputs": [
    {
     "data": {
      "text/plain": [
       "array(['WiFi is available in public areas and is free of charge.',\n",
       "       'WiFi is available in all areas and is free of charge.',\n",
       "       'WiFi is available in the hotel rooms and is free of charge.',\n",
       "       'WiFi is available in some hotel rooms and is free of charge.',\n",
       "       'No internet access available.',\n",
       "       'WiFi is available in the hotel rooms and charges are applicable.'],\n",
       "      dtype=object)"
      ]
     },
     "execution_count": 192,
     "metadata": {},
     "output_type": "execute_result"
    }
   ],
   "source": [
    "X.Internet.unique()"
   ]
  },
  {
   "cell_type": "code",
   "execution_count": 193,
   "id": "db3dfca7-0d60-45cd-b3ce-43aa30389117",
   "metadata": {},
   "outputs": [],
   "source": [
    "# data = ['No internet access available.', 'WiFi is available in the hotel rooms and charges are applicable.', \n",
    "#         'WiFi is available in public areas and is free of charge.', 'WiFi is available in some hotel rooms and is free of charge.',\n",
    "#         'WiFi is available in the hotel rooms and is free of charge.', 'WiFi is available in all areas and is free of charge.']  # Your list\n",
    "\n",
    "unique_labels = list(dict.fromkeys(X.Internet))\n",
    "label_mapping = {label: idx for idx, label in enumerate(unique_labels)}\n",
    "\n",
    "X['Internet'] = X['Internet'].map(label_mapping)"
   ]
  },
  {
   "cell_type": "markdown",
   "id": "1c8cf391-dddb-49a3-8cbe-57be62cc2134",
   "metadata": {},
   "source": [
    "### Encoding Parking"
   ]
  },
  {
   "cell_type": "code",
   "execution_count": 205,
   "id": "4ce49efd-a739-4708-a828-7712e2d5a0bc",
   "metadata": {},
   "outputs": [
    {
     "data": {
      "text/plain": [
       "array(['Accessible parking | Parking garage',\n",
       "       'Accessible parking | Parking garage | Secured parking',\n",
       "       'Accessible parking | Street parking', \"Doesn't have\",\n",
       "       'Parking garage', 'Street parking | Secured parking',\n",
       "       'Street parking',\n",
       "       'Accessible parking | Street parking | Secured parking',\n",
       "       'Electric vehicle charging station | Street parking',\n",
       "       'Accessible parking',\n",
       "       'Electric vehicle charging station | Street parking | Secured parking',\n",
       "       'Electric vehicle charging station | Secured parking',\n",
       "       'Secured parking', 'Parking garage | Secured parking',\n",
       "       'Electric vehicle charging station | Parking garage | Secured parking',\n",
       "       'Accessible parking | Electric vehicle charging station',\n",
       "       'Accessible parking | Electric vehicle charging station | Street parking | Secured parking',\n",
       "       'Accessible parking | Parking garage | Street parking | Secured parking',\n",
       "       'Accessible parking | Electric vehicle charging station | Parking garage',\n",
       "       'Accessible parking | Secured parking',\n",
       "       'Electric vehicle charging station | Parking garage',\n",
       "       'Electric vehicle charging station',\n",
       "       'Accessible parking | Electric vehicle charging station | Parking garage | Secured parking',\n",
       "       'Accessible parking | Electric vehicle charging station | Street parking'],\n",
       "      dtype=object)"
      ]
     },
     "execution_count": 205,
     "metadata": {},
     "output_type": "execute_result"
    }
   ],
   "source": [
    "X.Parking.unique()"
   ]
  },
  {
   "cell_type": "code",
   "execution_count": 208,
   "id": "277f58e3-fb5c-4062-9548-0aae3cbefb2e",
   "metadata": {},
   "outputs": [],
   "source": [
    "encoded_data4 = splitter(X.Parking ,' | ')\n",
    "encoded_data4 = splitter(encoded_data4, ' ')\n",
    "encoded_data4 = encoded_data4.drop(columns=[\"Doesn't\", 'have', 'Parking', 'parking', 'vehicle'])"
   ]
  },
  {
   "cell_type": "code",
   "execution_count": 209,
   "id": "6e469d98-07a2-4a21-b927-7bd76d34cf0f",
   "metadata": {},
   "outputs": [
    {
     "data": {
      "text/plain": [
       "Index(['Accessible', 'Electric', 'Secured', 'Street', 'charging', 'garage',\n",
       "       'station'],\n",
       "      dtype='object')"
      ]
     },
     "execution_count": 209,
     "metadata": {},
     "output_type": "execute_result"
    }
   ],
   "source": [
    "encoded_data4.columns"
   ]
  },
  {
   "cell_type": "code",
   "execution_count": 210,
   "id": "f1d97ff2-c0ee-4468-aff3-ccbf6668329a",
   "metadata": {},
   "outputs": [],
   "source": [
    "# add encoded data to X, fill NaN values\n",
    "X = X.drop(columns = ['Parking'])\n",
    "X = pd.concat([X, encoded_data4], axis = 1)\n",
    "X.columns[X.isnull().any()]\n",
    "X.fillna(0, inplace=True)"
   ]
  },
  {
   "cell_type": "markdown",
   "id": "f469285e-f66e-4da2-a182-5be78416b10d",
   "metadata": {},
   "source": [
    "### Encoding Parking"
   ]
  },
  {
   "cell_type": "code",
   "execution_count": 213,
   "id": "e4ca1e95-0891-4903-a6a8-d4725d476abd",
   "metadata": {},
   "outputs": [
    {
     "data": {
      "text/plain": [
       "array(['Sun loungers or beach chairs | Hot tub/Jacuzzi (Additional charge) | Spa and wellness centre (Additional charge) | Fitness centre | Sauna',\n",
       "       \"Doesn't have\",\n",
       "       'Fitness/spa locker rooms | Personal trainer | Fitness classes | Fitness | Sun loungers or beach chairs | Hammam (Additional charge) | Fitness centre | Sauna (Additional charge)',\n",
       "       'Full body massage | Hand massage | Head massage | Couples massage | Foot massage | Neck massage | Back massage | Massage | Sauna (Additional charge)',\n",
       "       'Fitness/spa locker rooms | Personal trainer | Fitness classes | Yoga classes | Fitness | Full body massage (Additional charge) | Hand massage (Additional charge) | Head massage (Additional charge) | Couples massage (Additional charge) | Foot massage (Additional charge) | Neck massage (Additional charge) | Back massage (Additional charge) | Spa/wellness packages | Foot bath | Spa lounge/relaxation area | Steam room | Spa facilities | Light therapy | Body wrap | Body scrub | Body treatments | Hair styling | Hair colouring | Hair cut | Pedicure | Manicure | Hair treatments | Make up services | Facial treatments | Beauty Services | Sun loungers or beach chairs | Massage (Additional charge) | Spa and wellness centre (Additional charge) | Fitness centre\\n\\n(Temporarily closed) | Sauna',\n",
       "       'Fitness/spa locker rooms | Fitness | Spa lounge/relaxation area | Steam room | Sun loungers or beach chairs | Public Bath | Massage (Additional charge) | Fitness centre | Sauna',\n",
       "       'Sun loungers or beach chairs | Sauna',\n",
       "       'Sun umbrellas | Sun loungers or beach chairs | Open-air bath',\n",
       "       'Fitness classes | Sun umbrellas | Open-air bath',\n",
       "       'Spa lounge/relaxation area | Steam room | Sun umbrellas | Sun loungers or beach chairs',\n",
       "       'Sun loungers or beach chairs | Massage | Sauna',\n",
       "       'Fitness centre | Sauna',\n",
       "       'Sun umbrellas | Sun loungers or beach chairs',\n",
       "       'Fitness/spa locker rooms | Personal trainer | Fitness classes | Fitness | Massage chair | Full body massage (Additional charge) | Hand massage (Additional charge) | Head massage (Additional charge) | Foot massage (Additional charge) | Neck massage (Additional charge) | Back massage (Additional charge) | Foot bath | Manicure | Beauty Services | Sun umbrellas | Sun loungers or beach chairs | Massage (Additional charge) | Spa and wellness centre (Additional charge) | Fitness centre | Sauna',\n",
       "       'Full body massage (Additional charge) | Spa/wellness packages | Steam room | Spa facilities | Sun umbrellas | Massage (Additional charge) | Spa and wellness centre (Additional charge) | Sauna',\n",
       "       'Fitness/spa locker rooms | Personal trainer | Fitness classes | Fitness | Full body massage (Additional charge) | Hand massage (Additional charge) | Head massage (Additional charge) | Couples massage (Additional charge) | Foot massage (Additional charge) | Neck massage (Additional charge) | Back massage (Additional charge) | Spa/wellness packages | Spa lounge/relaxation area | Steam room | Spa facilities | Beauty Services | Sun loungers or beach chairs | Hammam | Hot tub/Jacuzzi | Massage (Additional charge) | Spa and wellness centre (Additional charge) | Fitness centre | Sauna',\n",
       "       'Steam room',\n",
       "       'Fitness/spa locker rooms | Sun umbrellas | Sun loungers or beach chairs | Hammam | Sauna',\n",
       "       'Massage (Additional charge)', 'Sauna', 'Open-air bath',\n",
       "       'Massage (Additional charge) | Spa and wellness centre (Additional charge) | Solarium (Additional charge) | Fitness centre | Sauna',\n",
       "       'Fitness/spa locker rooms | Sun umbrellas | Sun loungers or beach chairs',\n",
       "       'Steam room | Sun loungers or beach chairs | Sauna (Additional charge)',\n",
       "       'Hammam | Sauna',\n",
       "       'Fitness/spa locker rooms | Full body massage (Additional charge) | Hand massage (Additional charge) | Head massage (Additional charge) | Couples massage (Additional charge) | Foot massage (Additional charge) | Neck massage (Additional charge) | Back massage (Additional charge) | Light therapy | Body wrap | Body scrub | Body treatments | Hair styling | Hair colouring | Hair cut | Pedicure | Manicure | Hair treatments | Make up services | Waxing services | Facial treatments | Beauty Services | Massage (Additional charge)',\n",
       "       'Fitness/spa locker rooms | Fitness classes | Yoga classes | Fitness | Full body massage (Additional charge) | Hand massage (Additional charge) | Head massage (Additional charge) | Foot massage (Additional charge) | Neck massage (Additional charge) | Back massage (Additional charge) | Spa/wellness packages | Foot bath | Spa lounge/relaxation area | Steam room | Spa facilities | Body wrap | Body scrub | Body treatments | Pedicure | Manicure | Waxing services | Facial treatments | Beauty Services | Sun umbrellas | Sun loungers or beach chairs | Water slide | Open-air bath | Hammam | Hot tub/Jacuzzi | Massage (Additional charge) | Spa and wellness centre (Additional charge) | Fitness centre | Sauna',\n",
       "       'Spa/wellness packages | Spa lounge/relaxation area | Steam room | Spa facilities | Hot spring bath | Hot tub/Jacuzzi | Massage (Additional charge) | Spa and wellness centre (Additional charge)',\n",
       "       'Spa and wellness centre (Additional charge) | Fitness centre (Additional charge) | Sauna (Additional charge)',\n",
       "       'Fitness/spa locker rooms | Fitness | Spa facilities | Light therapy | Body wrap | Body scrub | Body treatments | Hair styling | Hair colouring | Hair cut | Pedicure | Manicure | Hair treatments | Facial treatments | Beauty Services | Sun umbrellas | Sun loungers or beach chairs | Massage (Additional charge) | Fitness centre',\n",
       "       'Sun umbrellas',\n",
       "       'Fitness/spa locker rooms | Fitness classes | Yoga classes | Fitness | Massage chair | Full body massage (Additional charge) | Hand massage (Additional charge) | Head massage (Additional charge) | Couples massage (Additional charge) | Foot massage (Additional charge) | Neck massage (Additional charge) | Back massage (Additional charge) | Spa/wellness packages | Spa lounge/relaxation area | Spa facilities | Hair styling | Hair colouring | Hair cut | Pedicure | Manicure | Hair treatments | Make up services | Beauty Services | Sun umbrellas | Sun loungers or beach chairs | Water slide | Hammam | Hot tub/Jacuzzi | Massage (Additional charge) | Spa and wellness centre (Additional charge) | Fitness centre',\n",
       "       'Massage chair | Full body massage (Additional charge) | Hand massage (Additional charge) | Head massage (Additional charge) | Couples massage (Additional charge) | Foot massage (Additional charge) | Neck massage (Additional charge) | Back massage (Additional charge) | Spa lounge/relaxation area | Steam room | Spa facilities | Sun umbrellas | Sun loungers or beach chairs | Water slide | Open-air bath | Hammam (Additional charge) | Hot tub/Jacuzzi | Massage (Additional charge) | Spa and wellness centre (Additional charge) | Sauna (Additional charge)',\n",
       "       'Fitness | Sun umbrellas | Sun loungers or beach chairs | Fitness centre | Sauna (Additional charge)',\n",
       "       'Fitness/spa locker rooms | Fitness classes | Fitness | Hand massage (Additional charge) | Head massage (Additional charge) | Couples massage (Additional charge) | Foot massage (Additional charge) | Neck massage (Additional charge) | Spa/wellness packages | Foot bath | Spa lounge/relaxation area | Steam room | Spa facilities | Hair cut | Pedicure | Manicure | Make up services | Beauty Services | Sun umbrellas | Hammam | Hot tub/Jacuzzi | Massage (Additional charge) | Spa and wellness centre (Additional charge) | Fitness centre | Sauna',\n",
       "       'Sun loungers or beach chairs | Open-air bath | Hammam (Additional charge) | Hot tub/Jacuzzi | Sauna',\n",
       "       'Full body massage (Additional charge) | Hand massage (Additional charge) | Head massage (Additional charge) | Couples massage (Additional charge) | Foot massage (Additional charge) | Neck massage (Additional charge) | Back massage (Additional charge) | Sun umbrellas | Sun loungers or beach chairs | Massage (Additional charge) | Sauna (Additional charge)',\n",
       "       'Fitness/spa locker rooms | Full body massage (Additional charge) | Hand massage (Additional charge) | Head massage (Additional charge) | Foot massage (Additional charge) | Neck massage (Additional charge) | Back massage (Additional charge) | Hammam | Massage (Additional charge) | Spa and wellness centre (Additional charge) | Fitness centre | Sauna',\n",
       "       'Sun loungers or beach chairs | Water slide',\n",
       "       'Fitness/spa locker rooms | Fitness | Full body massage (Additional charge) | Hand massage (Additional charge) | Head massage (Additional charge) | Foot massage (Additional charge) | Neck massage (Additional charge) | Back massage (Additional charge) | Spa lounge/relaxation area | Steam room | Spa facilities | Hammam (Additional charge) | Massage (Additional charge) | Spa and wellness centre (Additional charge) | Solarium (Additional charge) | Fitness centre | Sauna',\n",
       "       'Fitness/spa locker rooms | Personal trainer | Fitness classes | Yoga classes | Fitness | Spa/wellness packages | Sun umbrellas | Open-air bath | Hot tub/Jacuzzi (Additional charge) | Spa and wellness centre | Fitness centre | Sauna',\n",
       "       'Foot bath | Steam room | Body treatments | Hair styling | Hair colouring | Hair cut | Pedicure | Manicure | Hair treatments | Make up services | Waxing services | Facial treatments | Beauty Services | Sun loungers or beach chairs | Water slide | Hot tub/Jacuzzi\\n\\n(Temporarily closed) | Sauna',\n",
       "       'Sun loungers or beach chairs',\n",
       "       'Sun umbrellas | Sun loungers or beach chairs | Open-air bath | Sauna (Additional charge)',\n",
       "       'Sun umbrellas | Open-air bath',\n",
       "       'Hot tub/Jacuzzi (Additional charge) | Spa and wellness centre (Additional charge) | Sauna (Additional charge)',\n",
       "       'Full body massage (Additional charge) | Hand massage (Additional charge) | Head massage (Additional charge) | Foot massage (Additional charge) | Neck massage (Additional charge) | Back massage (Additional charge) | Sun umbrellas | Massage (Additional charge)',\n",
       "       'Water slide',\n",
       "       'Fitness | Sun umbrellas | Sun loungers or beach chairs | Hot tub/Jacuzzi | Fitness centre | Sauna (Additional charge)',\n",
       "       'Sun umbrellas | Sauna (Additional charge)',\n",
       "       'Sun umbrellas | Sun loungers or beach chairs | Massage (Additional charge)',\n",
       "       'Sun loungers or beach chairs | Sauna (Additional charge)',\n",
       "       'Steam room | Sun loungers or beach chairs | Sauna',\n",
       "       'Full body massage | Hand massage | Head massage | Couples massage | Foot massage | Neck massage | Back massage | Massage | Fitness centre',\n",
       "       'Sauna (Additional charge)',\n",
       "       'Personal trainer | Fitness classes | Fitness | Spa/wellness packages | Foot bath | Spa lounge/relaxation area | Steam room | Spa facilities | Public Bath | Hot spring bath | Massage (Additional charge) | Spa and wellness centre (Additional charge) | Fitness centre',\n",
       "       'Water slide | Sauna (Additional charge)',\n",
       "       'Fitness | Spa lounge/relaxation area | Water slide | Spa and wellness centre (Additional charge) | Fitness centre | Sauna (Additional charge)',\n",
       "       'Fitness/spa locker rooms | Personal trainer | Fitness classes | Fitness | Full body massage (Additional charge) | Hand massage (Additional charge) | Foot massage (Additional charge) | Neck massage (Additional charge) | Back massage (Additional charge) | Steam room | Spa facilities | Public Bath | Hot tub/Jacuzzi | Massage (Additional charge) | Spa and wellness centre (Additional charge) | Fitness centre | Sauna',\n",
       "       'Fitness/spa locker rooms | Full body massage (Additional charge) | Head massage (Additional charge) | Foot massage (Additional charge) | Neck massage (Additional charge) | Back massage (Additional charge) | Steam room | Spa facilities | Sun loungers or beach chairs | Hot tub/Jacuzzi | Massage (Additional charge) | Spa and wellness centre (Additional charge) | Sauna (Additional charge)',\n",
       "       'Fitness/spa locker rooms | Fitness | Spa lounge/relaxation area | Spa facilities | Sun loungers or beach chairs | Hammam (Additional charge) | Hot tub/Jacuzzi (Additional charge) | Massage (Additional charge) | Spa and wellness centre (Additional charge) | Fitness centre (Additional charge) | Sauna (Additional charge)',\n",
       "       'Fitness/spa locker rooms | Sun umbrellas | Sun loungers or beach chairs | Open-air bath (Additional charge) | Hot tub/Jacuzzi',\n",
       "       'Fitness | Steam room | Hammam | Fitness centre | Sauna',\n",
       "       'Steam room | Sun umbrellas | Sun loungers or beach chairs | Hot tub/Jacuzzi (Additional charge) | Sauna (Additional charge)',\n",
       "       'Massage', 'Spa and wellness centre | Sauna',\n",
       "       'Sun loungers or beach chairs | Hot tub/Jacuzzi (Additional charge)',\n",
       "       'Hammam (Additional charge) | Hot tub/Jacuzzi | Massage (Additional charge) | Sauna',\n",
       "       'Full body massage | Hand massage | Head massage | Couples massage | Foot massage | Neck massage | Back massage | Public Bath (Additional charge) | Open-air bath (Additional charge) | Massage | Sauna (Additional charge)',\n",
       "       'Steam room | Sun umbrellas | Sun loungers or beach chairs | Sauna (Additional charge)',\n",
       "       'Fitness/spa locker rooms | Personal trainer | Fitness classes | Fitness | Steam room | Fitness centre | Sauna (Additional charge)',\n",
       "       'Spa/wellness packages | Steam room | Spa facilities | Sun loungers or beach chairs (Additional charge) | Water slide | Open-air bath (Additional charge) | Hammam (Additional charge) | Hot tub/Jacuzzi (Additional charge) | Massage (Additional charge) | Sauna (Additional charge)',\n",
       "       'Sun loungers or beach chairs | Open-air bath'], dtype=object)"
      ]
     },
     "execution_count": 213,
     "metadata": {},
     "output_type": "execute_result"
    }
   ],
   "source": [
    "X.Wellness.unique()"
   ]
  },
  {
   "cell_type": "code",
   "execution_count": 223,
   "id": "053d737b-afbb-4e88-8f76-e96c0d9dabf7",
   "metadata": {},
   "outputs": [],
   "source": [
    "encoded_data5 = splitter(X.Wellness ,' | ')\n",
    "encoded_data5 = splitter(encoded_data5, ' ')\n",
    "encoded_data5 = splitter(encoded_data5, '(')\n",
    "encoded_data5 = splitter(encoded_data5, ')')\n",
    "encoded_data5 = encoded_data5.drop(columns=['',\"Doesn't\", 'have', 'and', 'chair', 'area', 'or','up'])"
   ]
  },
  {
   "cell_type": "code",
   "execution_count": 224,
   "id": "07b98a47-94b2-4936-bbb0-e60a57f28cce",
   "metadata": {},
   "outputs": [
    {
     "data": {
      "text/plain": [
       "Index(['Additional', 'Back', 'Bath', 'Beauty', 'Body', 'Couples', 'Facial',\n",
       "       'Fitness', 'Fitness/spa', 'Foot', 'Full', 'Hair', 'Hammam', 'Hand',\n",
       "       'Head', 'Hot', 'Light', 'Make', 'Manicure', 'Massage', 'Neck',\n",
       "       'Open-air', 'Pedicure', 'Personal', 'Public', 'Sauna', 'Services',\n",
       "       'Solarium', 'Spa', 'Spa/wellness', 'Steam', 'Sun', 'Temporarily',\n",
       "       'Water', 'Waxing', 'Yoga', 'bath', 'beach', 'body', 'centre', 'chairs',\n",
       "       'charge', 'classes', 'closed', 'colouring', 'cut', 'facilities',\n",
       "       'locker', 'lounge/relaxation', 'loungers', 'massage', 'packages',\n",
       "       'room', 'rooms', 'scrub', 'services', 'slide', 'spring', 'styling',\n",
       "       'therapy', 'trainer', 'treatments', 'tub/Jacuzzi', 'umbrellas',\n",
       "       'wellness', 'wrap'],\n",
       "      dtype='object')"
      ]
     },
     "execution_count": 224,
     "metadata": {},
     "output_type": "execute_result"
    }
   ],
   "source": [
    "encoded_data5.columns.unique()"
   ]
  },
  {
   "cell_type": "code",
   "execution_count": 225,
   "id": "b6e2f54e-ca8a-475b-8950-1f99529f2e12",
   "metadata": {},
   "outputs": [],
   "source": [
    "# add encoded data to X, fill NaN values\n",
    "X = X.drop(columns = ['Wellness'])\n",
    "X = pd.concat([X, encoded_data5], axis = 1)\n",
    "X.columns[X.isnull().any()]\n",
    "X.fillna(0, inplace=True)"
   ]
  },
  {
   "cell_type": "code",
   "execution_count": 228,
   "id": "32a616e1-d3ac-423a-b1ad-7ef35acddbdf",
   "metadata": {},
   "outputs": [],
   "source": [
    "X.Rating = X.Rating.round(2)"
   ]
  },
  {
   "cell_type": "code",
   "execution_count": 232,
   "id": "22aa739b-3228-4ae9-ae25-c18d3e34f685",
   "metadata": {},
   "outputs": [],
   "source": [
    "X.to_csv('Preprocessed_Hotel_data.csv', index= False)"
   ]
  }
 ],
 "metadata": {
  "kernelspec": {
   "display_name": "Python 3 (ipykernel)",
   "language": "python",
   "name": "python3"
  },
  "language_info": {
   "codemirror_mode": {
    "name": "ipython",
    "version": 3
   },
   "file_extension": ".py",
   "mimetype": "text/x-python",
   "name": "python",
   "nbconvert_exporter": "python",
   "pygments_lexer": "ipython3",
   "version": "3.11.5"
  }
 },
 "nbformat": 4,
 "nbformat_minor": 5
}
