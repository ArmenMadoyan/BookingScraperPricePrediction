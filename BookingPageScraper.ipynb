{
 "cells": [
  {
   "cell_type": "code",
   "execution_count": 2,
   "id": "d8e6af8a",
   "metadata": {},
   "outputs": [],
   "source": [
    "import numpy as np\n",
    "import pandas as pd\n",
    "from bs4 import BeautifulSoup\n",
    "import requests\n",
    "import time\n",
    "from typing import List"
   ]
  },
  {
   "cell_type": "code",
   "execution_count": 3,
   "id": "4b2b1586",
   "metadata": {},
   "outputs": [],
   "source": [
    "def parseMe(url: str,headers: str) -> BeautifulSoup:\n",
    "    response =requests.get(url,headers=headers)\n",
    "    #print(response)\n",
    "    assert response.status_code==200, \"Page didn't respond\"\n",
    "    pg = response.content\n",
    "    return BeautifulSoup(pg,'html.parser')\n"
   ]
  },
  {
   "cell_type": "code",
   "execution_count": 4,
   "id": "f13471ea",
   "metadata": {},
   "outputs": [],
   "source": [
    "def scrapeMe(page: BeautifulSoup) -> List[str]:\n",
    "    a = page.find('div','hotel-facilities__list').find_all('div',class_='bui-spacer--large')\n",
    "\n",
    "    types=[]\n",
    "    avails=[]\n",
    "\n",
    "    for i in a:\n",
    "        types.append(i.find('div', class_=\"bui-title__text hotel-facilities-group__title-text\").get_text().split('\\n')[1])\n",
    "        avail = i.find('ul').find_all('li')\n",
    "\n",
    "        s=\"\"\n",
    "        for j in avail:\n",
    "            if j!=avail[-1]:\n",
    "                s +=  j.find('div', class_=\"bui-list__body\").get_text().split('\\n\\n')[1] + ' | '\n",
    "            else:\n",
    "                s +=  j.find('div', class_=\"bui-list__body\").get_text().split('\\n\\n')[1]\n",
    "        avails.append(s)\n",
    "        \n",
    "    return types,avails\n"
   ]
  },
  {
   "cell_type": "code",
   "execution_count": 5,
   "id": "7590dd2c",
   "metadata": {},
   "outputs": [],
   "source": [
    "def dictMe(types: List[str], avails: List[str]) -> dict:\n",
    "    assert len(types)==len(avails), \"The lengths don't match\"\n",
    "    d=dict(zip(types,avails))\n",
    "    return d\n"
   ]
  },
  {
   "cell_type": "code",
   "execution_count": 6,
   "id": "d4a6ac84",
   "metadata": {},
   "outputs": [],
   "source": [
    "def pdMe(d: dict) -> pd.DataFrame:\n",
    "    df = pd.DataFrame([d])\n",
    "    return df\n"
   ]
  },
  {
   "cell_type": "code",
   "execution_count": 7,
   "id": "d328edf8",
   "metadata": {},
   "outputs": [],
   "source": [
    "headers = {'User-Agent':'Mozilla/5.0 (X11; Linux x86_64) AppleWebKit/537.36 (KHTML, like Gecko) Chrome/104.0.0.0 Safari/537.36'}\n",
    "url ='https://www.booking.com/hotel/am/bed-and-breakfast-dilijan-orran.html?aid=304142&label=gen173nr-1FCAEoggI46AdIM1gEaAeIAQGYATG4ARnIAQzYAQHoAQH4AQKIAgGoAgO4At-Qs5gGwAIB0gIkNjYzZDQ0Y2YtMzMyZi00YjJiLWI1ODYtOTUzOTNhMGEwYTYz2AIF4AIB&sid=4c9da70ca7c98f7e6414f416852ae238&dest_id=-2324702;dest_type=city;dist=0;group_adults=2;group_children=0;hapos=2;hpos=2;no_rooms=1;req_adults=2;req_children=0;room1=A%2CA;sb_price_type=total;sr_order=popularity;srepoch=1661782167;srpvid=1e91638b6fd3024d;type=total;ucfs=1&#hp_facilities_box'\n",
    "\n",
    "def scMeBooking(url: str,headers: str) -> pd.DataFrame:\n",
    "    pg = parseMe(url, headers)\n",
    "    a,b = scrapeMe(pg)\n",
    "    d = dictMe(a,b)\n",
    "    return pdMe(d)\n",
    "    \n",
    "\n",
    "df=scMeBooking(url,headers)"
   ]
  }
 ],
 "metadata": {
  "kernelspec": {
   "display_name": "Python 3 (ipykernel)",
   "language": "python",
   "name": "python3"
  },
  "language_info": {
   "codemirror_mode": {
    "name": "ipython",
    "version": 3
   },
   "file_extension": ".py",
   "mimetype": "text/x-python",
   "name": "python",
   "nbconvert_exporter": "python",
   "pygments_lexer": "ipython3",
   "version": "3.11.5"
  }
 },
 "nbformat": 4,
 "nbformat_minor": 5
}
